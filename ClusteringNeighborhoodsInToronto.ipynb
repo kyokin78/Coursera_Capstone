{
    "cells": [
        {
            "cell_type": "markdown",
            "metadata": {
                "collapsed": true
            },
            "source": "# Segmenting and Clustering Neighborhoods in Toronto\n### Cousera Course: IBM Data Science Professional Certificate\n#### Capstone Project - Week 3 Assignment"
        },
        {
            "cell_type": "markdown",
            "metadata": {},
            "source": "---\n# Part 1 - Build Neighborhood Dataset in Toronto\n\nData source: https://en.wikipedia.org/wiki/List_of_postal_codes_of_Canada:_M  \nUse pandas, or the BeautifulSoup package to transform the data in the table on the Wikipedia page into the above pandas dataframe."
        },
        {
            "cell_type": "code",
            "execution_count": 52,
            "metadata": {},
            "outputs": [],
            "source": "import requests\nimport pandas as pd\nfrom bs4 import BeautifulSoup\n\nclass HTMLTableParser:\n\n    def parse_url(self, url):\n        response = requests.get(url)\n        soup = BeautifulSoup(response.text, 'lxml')\n        return [(table.get('id', \"table\"), self.parse_html_table(table)) for table in soup.find_all('table')]  \n\n    def parse_html_table(self, table):\n        n_columns = 0\n        n_rows = 0\n        column_names = []\n\n        table_name = table.get('id', \"no name\")\n        print(f'\\nProcessing table[{table_name}] ...')\n        # Find number of rows and columns\n        # we also find the column titles if we can\n        for row in table.find_all('tr'):\n\n            # Determine the number of rows in the table\n            td_tags = row.find_all('td')\n            if len(td_tags) > 0:\n                n_rows += 1\n                if n_columns == 0:\n                    # Set the number of columns for our table\n                    n_columns = len(td_tags)\n                    print(f\"Number of Columns: {n_columns}\")\n\n            # Validate number of column for each line\n            if n_columns != 0 and n_columns != len(td_tags):\n                print(f\"Number of Column MISMATCH! Require: {n_columns}, Found: {len(td_tags)}, table ignored!\")\n                return None\n\n            # Handle column names if we find them\n            if len(column_names) == 0:\n                th_tags = row.find_all('th') \n                if len(th_tags) > 0:\n                    for th in th_tags:\n                        column_names.append(th.get_text().strip())\n                    print(f\"Column name: {column_names}\")\n\n        print(f\"Number of Rows: {n_rows}\")\n\n        # Safeguard on Column Titles\n        if len(column_names) > 0 and len(column_names) != n_columns:\n            print(\"Column titles do not match the number of columns, table ignored!\")\n            return None\n\n        columns = column_names if len(column_names) > 0 else range(0, n_columns)\n        df = pd.DataFrame(columns = columns, index = range(0, n_rows))\n        row_index = 0\n        for row in table.find_all('tr'):\n            column_index = 0\n            columns = row.find_all('td')\n            for column in columns:\n                df.iat[row_index, column_index] = column.get_text().strip()\n                column_index += 1\n            if len(columns) > 0:\n                row_index += 1\n\n        # Convert to float if possible\n        for col in df:\n            try:\n                df[col] = df[col].astype(float)\n            except ValueError:\n                pass\n\n        return df"
        },
        {
            "cell_type": "code",
            "execution_count": 53,
            "metadata": {},
            "outputs": [
                {
                    "name": "stdout",
                    "output_type": "stream",
                    "text": "\nProcessing table[no name] ...\nColumn name: ['Postal Code', 'Borough', 'Neighborhood']\nNumber of Columns: 3\nNumber of Rows: 180\n\nProcessing table[no name] ...\nNumber of Columns: 2\nColumn name: ['Canadian postal codes']\nNumber of Column MISMATCH! Require: 2, Found: 31, table ignored!\n\nProcessing table[no name] ...\nNumber of Columns: 12\nNumber of Column MISMATCH! Require: 12, Found: 18, table ignored!\n"
                },
                {
                    "data": {
                        "text/html": "<div>\n<style scoped>\n    .dataframe tbody tr th:only-of-type {\n        vertical-align: middle;\n    }\n\n    .dataframe tbody tr th {\n        vertical-align: top;\n    }\n\n    .dataframe thead th {\n        text-align: right;\n    }\n</style>\n<table border=\"1\" class=\"dataframe\">\n  <thead>\n    <tr style=\"text-align: right;\">\n      <th></th>\n      <th>Postal Code</th>\n      <th>Borough</th>\n      <th>Neighborhood</th>\n    </tr>\n  </thead>\n  <tbody>\n    <tr>\n      <th>0</th>\n      <td>M1A</td>\n      <td>Not assigned</td>\n      <td></td>\n    </tr>\n    <tr>\n      <th>1</th>\n      <td>M2A</td>\n      <td>Not assigned</td>\n      <td></td>\n    </tr>\n    <tr>\n      <th>2</th>\n      <td>M3A</td>\n      <td>North York</td>\n      <td>Parkwoods</td>\n    </tr>\n    <tr>\n      <th>3</th>\n      <td>M4A</td>\n      <td>North York</td>\n      <td>Victoria Village</td>\n    </tr>\n    <tr>\n      <th>4</th>\n      <td>M5A</td>\n      <td>Downtown Toronto</td>\n      <td>Regent Park, Harbourfront</td>\n    </tr>\n  </tbody>\n</table>\n</div>",
                        "text/plain": "  Postal Code           Borough               Neighborhood\n0         M1A      Not assigned                           \n1         M2A      Not assigned                           \n2         M3A        North York                  Parkwoods\n3         M4A        North York           Victoria Village\n4         M5A  Downtown Toronto  Regent Park, Harbourfront"
                    },
                    "execution_count": 53,
                    "metadata": {},
                    "output_type": "execute_result"
                }
            ],
            "source": "url = 'https://en.wikipedia.org/wiki/List_of_postal_codes_of_Canada:_M'\n\nhp = HTMLTableParser()\nToronto_df = hp.parse_url(url)[0][1]    # Grabbing the table from the tuple\nToronto_df.head()"
        },
        {
            "cell_type": "code",
            "execution_count": 54,
            "metadata": {},
            "outputs": [
                {
                    "data": {
                        "text/plain": "(180, 3)"
                    },
                    "execution_count": 54,
                    "metadata": {},
                    "output_type": "execute_result"
                }
            ],
            "source": "# Print total record in original table\nToronto_df.shape"
        },
        {
            "cell_type": "markdown",
            "metadata": {},
            "source": "#### The dataframe will consist of three columns: `PostalCode`, `Borough`, and `Neighborhood`"
        },
        {
            "cell_type": "code",
            "execution_count": 55,
            "metadata": {},
            "outputs": [
                {
                    "data": {
                        "text/plain": "Index(['PostalCode', 'Borough', 'Neighborhood'], dtype='object')"
                    },
                    "execution_count": 55,
                    "metadata": {},
                    "output_type": "execute_result"
                }
            ],
            "source": "Toronto_df.rename(columns={\"Postal Code\": \"PostalCode\"}, inplace=True)\nToronto_df.columns"
        },
        {
            "cell_type": "markdown",
            "metadata": {},
            "source": "#### Only process the cells that have an assigned borough. Ignore cells with a borough that is `Not assigned`."
        },
        {
            "cell_type": "code",
            "execution_count": 56,
            "metadata": {},
            "outputs": [
                {
                    "data": {
                        "text/html": "<div>\n<style scoped>\n    .dataframe tbody tr th:only-of-type {\n        vertical-align: middle;\n    }\n\n    .dataframe tbody tr th {\n        vertical-align: top;\n    }\n\n    .dataframe thead th {\n        text-align: right;\n    }\n</style>\n<table border=\"1\" class=\"dataframe\">\n  <thead>\n    <tr style=\"text-align: right;\">\n      <th></th>\n      <th>PostalCode</th>\n      <th>Borough</th>\n      <th>Neighborhood</th>\n    </tr>\n  </thead>\n  <tbody>\n    <tr>\n      <th>0</th>\n      <td>M3A</td>\n      <td>North York</td>\n      <td>Parkwoods</td>\n    </tr>\n    <tr>\n      <th>1</th>\n      <td>M4A</td>\n      <td>North York</td>\n      <td>Victoria Village</td>\n    </tr>\n    <tr>\n      <th>2</th>\n      <td>M5A</td>\n      <td>Downtown Toronto</td>\n      <td>Regent Park, Harbourfront</td>\n    </tr>\n    <tr>\n      <th>3</th>\n      <td>M6A</td>\n      <td>North York</td>\n      <td>Lawrence Manor, Lawrence Heights</td>\n    </tr>\n    <tr>\n      <th>4</th>\n      <td>M7A</td>\n      <td>Downtown Toronto</td>\n      <td>Queen's Park, Ontario Provincial Government</td>\n    </tr>\n  </tbody>\n</table>\n</div>",
                        "text/plain": "  PostalCode           Borough                                 Neighborhood\n0        M3A        North York                                    Parkwoods\n1        M4A        North York                             Victoria Village\n2        M5A  Downtown Toronto                    Regent Park, Harbourfront\n3        M6A        North York             Lawrence Manor, Lawrence Heights\n4        M7A  Downtown Toronto  Queen's Park, Ontario Provincial Government"
                    },
                    "execution_count": 56,
                    "metadata": {},
                    "output_type": "execute_result"
                }
            ],
            "source": "Toronto_df = Toronto_df[Toronto_df['Borough'] != 'Not assigned'].reset_index(drop=True)\nToronto_df.head()"
        },
        {
            "cell_type": "markdown",
            "metadata": {},
            "source": "#### More than one neighborhood can exist in one postal code area.  \nFor example, in the table on the Wikipedia page, you will notice that M5A is listed twice and has two neighborhoods: Harbourfront and Regent Park. These two rows will be combined into one row with the neighborhoods separated with a comma as shown in row 11 in the above table.\n\n> The table is cleaned recently, there is no duplicated value in `Postal Code` column now. Let's double check it."
        },
        {
            "cell_type": "code",
            "execution_count": 57,
            "metadata": {},
            "outputs": [
                {
                    "name": "stdout",
                    "output_type": "stream",
                    "text": "Number of duplicated value in PostalCode column: 0\n"
                }
            ],
            "source": "# Check whether there is duplicated value in first column\nprint(\"Number of duplicated value in PostalCode column:\", len(Toronto_df[Toronto_df.duplicated(['PostalCode'])]))"
        },
        {
            "cell_type": "markdown",
            "metadata": {},
            "source": "#### If a cell has a borough but a `Not assigned` neighborhood, then the neighborhood will be the same as the borough.\n\n> The table is cleaned recently, there is no **Not assigned** or **Empty value** in `Neighborhood` column now. Let's double check it."
        },
        {
            "cell_type": "code",
            "execution_count": 58,
            "metadata": {},
            "outputs": [
                {
                    "name": "stdout",
                    "output_type": "stream",
                    "text": "Number of Neighborhood column with \"Not assigned\" or empty value:  0\n"
                }
            ],
            "source": "# Check whether there is \"Not assigned\" or empty neighborhood\nprint('Number of Neighborhood column with \"Not assigned\" or empty value: ',\n      len(Toronto_df[(Toronto_df['Neighborhood'] == 'Not assigned') | (Toronto_df['Neighborhood'].isnull())]))"
        },
        {
            "cell_type": "markdown",
            "metadata": {},
            "source": "#### In the last cell of your notebook, use the .shape method to print the number of rows of your dataframe."
        },
        {
            "cell_type": "code",
            "execution_count": 59,
            "metadata": {},
            "outputs": [
                {
                    "data": {
                        "text/plain": "(103, 3)"
                    },
                    "execution_count": 59,
                    "metadata": {},
                    "output_type": "execute_result"
                }
            ],
            "source": "Toronto_df.shape"
        },
        {
            "cell_type": "code",
            "execution_count": null,
            "metadata": {},
            "outputs": [],
            "source": ""
        }
    ],
    "metadata": {
        "kernelspec": {
            "display_name": "Python 3.6",
            "language": "python",
            "name": "python3"
        },
        "language_info": {
            "codemirror_mode": {
                "name": "ipython",
                "version": 3
            },
            "file_extension": ".py",
            "mimetype": "text/x-python",
            "name": "python",
            "nbconvert_exporter": "python",
            "pygments_lexer": "ipython3",
            "version": "3.6.9"
        }
    },
    "nbformat": 4,
    "nbformat_minor": 1
}